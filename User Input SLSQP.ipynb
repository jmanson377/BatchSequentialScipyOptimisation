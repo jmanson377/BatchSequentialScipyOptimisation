{
 "cells": [
  {
   "cell_type": "markdown",
   "metadata": {},
   "source": [
    "# User Input local optimisation for ease of use\n",
    "- This notebook provides a simple way to perform local optimisation in a batch sequential manner\n",
    "- Feel free to use \n",
    "- Please edit the highlighted cell and then select run all once settings are correct!\n",
    "## Code to run\n",
    "- Please only edit the  one cell below\n",
    "- Feel free to change the variable name and the bounds\n",
    "- Copy or delete lines to increase/decrease the number of variables\n",
    "- Once you have edited the cell below, please select _run all_\n",
    "- To exit early from the optimization just type `Exit` in the input field"
   ]
  },
  {
   "cell_type": "code",
   "execution_count": null,
   "metadata": {},
   "outputs": [],
   "source": [
    "bounds = {\n",
    "    'x1': (-10,10), # (lower bound, upper bound)\n",
    "    'x2': (-10,10),\n",
    "    'x3': (-10,10),\n",
    "    'x4': (-10,10),\n",
    "}\n",
    "\n",
    "initial_guess = [6,6,7,8] # Please enter the initial guess as a list as shown\n",
    "\n",
    "opt_type = \"min\" # Please type either min or max here\n",
    "\n",
    "eps = 0.1 # Initial/minimum step size of optimisation algorithm\n",
    "\n",
    "plot = True # If you would like a plot progress"
   ]
  },
  {
   "cell_type": "code",
   "execution_count": 2,
   "metadata": {},
   "outputs": [],
   "source": [
    "from scipy.optimize import minimize\n",
    "import numpy as np\n",
    "import matplotlib.pyplot as plt\n",
    "plt.style.use('seaborn-darkgrid')"
   ]
  },
  {
   "cell_type": "markdown",
   "metadata": {},
   "source": [
    "## Initial Tests\n",
    "- This section of code is to check you have correctly installed the required packages\n",
    "- __Do not edit!__"
   ]
  },
  {
   "cell_type": "code",
   "execution_count": 3,
   "metadata": {},
   "outputs": [
    {
     "name": "stdout",
     "output_type": "stream",
     "text": [
      "     fun: array([6.75999992e-08])\n",
      "     jac: array([-0.00052,  0.00052])\n",
      " message: 'Optimization terminated successfully'\n",
      "    nfev: 6\n",
      "     nit: 2\n",
      "    njev: 2\n",
      "  status: 0\n",
      " success: True\n",
      "       x: array([-0.00026,  0.00026])\n"
     ]
    }
   ],
   "source": [
    "def matyas(X):\n",
    "    return (0.26 * (X[0] ** 2 + X[1] ** 2) - 0.48 * X[0] * X[1]).reshape(-1)\n",
    "\n",
    "def sphere(X):\n",
    "    return np.sum(X**2).reshape(-1)\n",
    "\n",
    "result = minimize(matyas, x0=np.array([6,-6]), method='SLSQP', bounds=((-10,10),(-10,10)), options={'eps':0.001})\n",
    "print(result)\n",
    "result = minimize(sphere, x0=np.array([6,-6]), method='SLSQP', bounds=((-10,10),(-10,10)), options={'eps':0.001})"
   ]
  },
  {
   "cell_type": "markdown",
   "metadata": {},
   "source": [
    "__Do not edit__"
   ]
  },
  {
   "cell_type": "code",
   "execution_count": 4,
   "metadata": {},
   "outputs": [
    {
     "name": "stdout",
     "output_type": "stream",
     "text": [
      "Please perform the following experiment:\n",
      "x1: 6.0\n",
      "x2: 6.0\n",
      "x3: 7.0\n",
      "x4: 8.0\n"
     ]
    },
    {
     "name": "stdin",
     "output_type": "stream",
     "text": [
      "Please input response:  Exit\n"
     ]
    },
    {
     "name": "stdout",
     "output_type": "stream",
     "text": [
      "Please perform the following experiment:\n",
      "x1: 6.1\n",
      "x2: 6.0\n",
      "x3: 7.0\n",
      "x4: 8.0\n"
     ]
    },
    {
     "name": "stdin",
     "output_type": "stream",
     "text": [
      "Please input response:  Exit\n"
     ]
    },
    {
     "name": "stdout",
     "output_type": "stream",
     "text": [
      "Premature termination, find progress in X_store and Y_store\n",
      "X_store\n",
      "[array([6., 6., 7., 8.]), array([6.1, 6. , 7. , 8. ])]\n",
      "Y_store\n",
      "[]\n"
     ]
    }
   ],
   "source": [
    "bnd_list = []\n",
    "for var, bound in bounds.items():\n",
    "    bnd_list.append(bound)\n",
    "    \n",
    "dim = len(bnd_list)\n",
    "\n",
    "X_store = []\n",
    "Y_store = []\n",
    "def user_input(X, opt_type, bounds, plot=True):\n",
    "    global X_store\n",
    "    global Y_store\n",
    "    X_store.append(X)\n",
    "    print(\"Please perform the following experiment:\")\n",
    "    for name, value in zip(bounds.keys(), X):\n",
    "        print(name + \": \" + str(value))\n",
    "        \n",
    "    while True:\n",
    "        try:\n",
    "            y = input('Please input response: ')\n",
    "            if y == 'Exit':\n",
    "                return 'a'\n",
    "            Y_store.append(float(y))\n",
    "            break\n",
    "        except:\n",
    "            print(\"Please enter a valid numeric value\")\n",
    "            \n",
    "    if plot:\n",
    "        if opt_type == \"min\":\n",
    "            plt.scatter(np.arange(len(Y_store)), np.minimum.accumulate(Y_store))\n",
    "            plt.title(\"Cummulative progress\")\n",
    "            plt.xlabel(\"Iteration\")\n",
    "            plt.ylabel(r\"$f(X)$\")\n",
    "            plt.show()\n",
    "        else:\n",
    "            plt.scatter(np.arange(len(Y_store)), np.maximum.accumulate(Y_store))\n",
    "            plt.title(\"Cummulative progress\")\n",
    "            plt.show()        \n",
    "            \n",
    "    return np.array(float(y)).reshape(-1) if opt_type == 'min' else - np.array(float(y)).reshape(-1)\n",
    "\n",
    "func = lambda x: user_input(x, opt_type, bounds, plot)\n",
    "try:\n",
    "    result = minimize(func, x0=np.array(initial_guess), method='SLSQP', bounds=bnd_list, options={'eps':eps})\n",
    "    print(result)\n",
    "except:\n",
    "    print('Premature termination, find progress in X_store and Y_store')\n",
    "    print(\"X_store\")\n",
    "    print(X_store)\n",
    "    print(\"Y_store\")\n",
    "    print(Y_store)"
   ]
  }
 ],
 "metadata": {
  "kernelspec": {
   "display_name": "Python 3",
   "language": "python",
   "name": "python3"
  },
  "language_info": {
   "codemirror_mode": {
    "name": "ipython",
    "version": 3
   },
   "file_extension": ".py",
   "mimetype": "text/x-python",
   "name": "python",
   "nbconvert_exporter": "python",
   "pygments_lexer": "ipython3",
   "version": "3.8.5"
  }
 },
 "nbformat": 4,
 "nbformat_minor": 4
}
